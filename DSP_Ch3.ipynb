{
 "cells": [
  {
   "cell_type": "code",
   "execution_count": 1,
   "id": "02db8926",
   "metadata": {
    "scrolled": true
   },
   "outputs": [
    {
     "name": "stderr",
     "output_type": "stream",
     "text": [
      "D:\\Anaconda\\lib\\site-packages\\pydub\\utils.py:170: RuntimeWarning: Couldn't find ffmpeg or avconv - defaulting to ffmpeg, but may not work\n",
      "  warn(\"Couldn't find ffmpeg or avconv - defaulting to ffmpeg, but may not work\", RuntimeWarning)\n"
     ]
    }
   ],
   "source": [
    "# Import AudioSegment from Pydub\n",
    "from pydub import AudioSegment"
   ]
  },
  {
   "cell_type": "code",
   "execution_count": 2,
   "id": "a0f1948c",
   "metadata": {},
   "outputs": [],
   "source": [
    "# Create an AudioSegment instance\n",
    "wavFile = AudioSegment.from_file(file=\"sample/wavFile.wav\", format=\"wav\")"
   ]
  },
  {
   "cell_type": "code",
   "execution_count": 3,
   "id": "7651dada",
   "metadata": {
    "scrolled": false
   },
   "outputs": [
    {
     "name": "stdout",
     "output_type": "stream",
     "text": [
      "<class 'pydub.audio_segment.AudioSegment'>\n"
     ]
    }
   ],
   "source": [
    "# Check the type\n",
    "print(type(wavFile))"
   ]
  },
  {
   "cell_type": "code",
   "execution_count": 4,
   "id": "c18c4144",
   "metadata": {},
   "outputs": [],
   "source": [
    "#import play function\n",
    "from pydub.playback import play"
   ]
  },
  {
   "cell_type": "code",
   "execution_count": 5,
   "id": "48451cb1",
   "metadata": {
    "scrolled": true
   },
   "outputs": [
    {
     "name": "stdout",
     "output_type": "stream",
     "text": [
      "Start executing th efile in the background, Turn on the Volume\n",
      ".\n",
      ".\n",
      "File has been played\n"
     ]
    }
   ],
   "source": [
    "# Play the audio file\n",
    "print(f\"Start executing th efile in the background, Turn on the Volume\\n.\\n.\")\n",
    "play(wavFile)\n",
    "print(\"File has been played\")"
   ]
  },
  {
   "cell_type": "code",
   "execution_count": 7,
   "id": "743ac164",
   "metadata": {
    "scrolled": true
   },
   "outputs": [
    {
     "name": "stdout",
     "output_type": "stream",
     "text": [
      "Frame Rate: 48000\n",
      "No. of Channels: 2\n",
      "Maximum Amplitude: 8484\n",
      "Sample Width: 2\n",
      "Length: 3284\n"
     ]
    }
   ],
   "source": [
    "# Find the number of frames\n",
    "print(f\"Frame Rate: {wavFile.frame_rate}\")\n",
    "\n",
    "# Find the number of channels\n",
    "print(f\"No. of Channels: {wavFile.channels}\")\n",
    "\n",
    "# Find the max amplitude\n",
    "print(f\"Maximum Amplitude: {wavFile.max}\")\n",
    "\n",
    "# Find the sample width\n",
    "print(f\"Sample Width: {wavFile.sample_width}\")\n",
    "\n",
    "# Find the length\n",
    "print(f\"Length: {len(wavFile)}\")"
   ]
  },
  {
   "cell_type": "code",
   "execution_count": 11,
   "id": "cf5f0fde",
   "metadata": {
    "scrolled": true
   },
   "outputs": [
    {
     "name": "stdout",
     "output_type": "stream",
     "text": [
      "New Frame Rate: 16000\n",
      "New Channels: 1\n",
      "New Maximum Amplitude: 8484\n",
      "New Sample Width: 1\n",
      "Length will remain same: 3284\n"
     ]
    }
   ],
   "source": [
    "# Set number of frames\n",
    "wavFileAdj =  wavFile.set_frame_rate(16000)\n",
    "print(f\"New Frame Rate: {wavFileAdj.frame_rate}\")\n",
    "\n",
    "# Set number of channels\n",
    "wavFileAdj =  wavFile.set_channels(1)\n",
    "print(f\"New Channels: {wavFileAdj.channels}\")\n",
    "\n",
    "# Set max amplitude\n",
    "print(f\"New Maximum Amplitude: {wavFileAdj.max}\")\n",
    "\n",
    "# Set sample width\n",
    "wavFileAdj =  wavFile.set_sample_width(1)\n",
    "print(f\"New Sample Width: {wavFileAdj.sample_width}\")\n",
    "\n",
    "# Set length\n",
    "print(f\"Length will remain same: {len(wavFileAdj)}\")"
   ]
  },
  {
   "cell_type": "code",
   "execution_count": null,
   "id": "76f2125b",
   "metadata": {},
   "outputs": [],
   "source": []
  }
 ],
 "metadata": {
  "kernelspec": {
   "display_name": "Python 3",
   "language": "python",
   "name": "python3"
  },
  "language_info": {
   "codemirror_mode": {
    "name": "ipython",
    "version": 3
   },
   "file_extension": ".py",
   "mimetype": "text/x-python",
   "name": "python",
   "nbconvert_exporter": "python",
   "pygments_lexer": "ipython3",
   "version": "3.8.8"
  }
 },
 "nbformat": 4,
 "nbformat_minor": 5
}
