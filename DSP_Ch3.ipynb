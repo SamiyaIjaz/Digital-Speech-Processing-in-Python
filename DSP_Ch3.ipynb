{
 "cells": [
  {
   "cell_type": "code",
   "execution_count": 1,
   "id": "02db8926",
   "metadata": {
    "scrolled": true
   },
   "outputs": [
    {
     "name": "stderr",
     "output_type": "stream",
     "text": [
      "D:\\Anaconda\\lib\\site-packages\\pydub\\utils.py:170: RuntimeWarning: Couldn't find ffmpeg or avconv - defaulting to ffmpeg, but may not work\n",
      "  warn(\"Couldn't find ffmpeg or avconv - defaulting to ffmpeg, but may not work\", RuntimeWarning)\n"
     ]
    }
   ],
   "source": [
    "# Import AudioSegment from Pydub\n",
    "from pydub import AudioSegment"
   ]
  },
  {
   "cell_type": "code",
   "execution_count": 2,
   "id": "a0f1948c",
   "metadata": {},
   "outputs": [],
   "source": [
    "# Create an AudioSegment instance\n",
    "wavFile = AudioSegment.from_file(file=\"sample/wavFile.wav\", format=\"wav\")"
   ]
  },
  {
   "cell_type": "code",
   "execution_count": 3,
   "id": "7651dada",
   "metadata": {
    "scrolled": false
   },
   "outputs": [
    {
     "name": "stdout",
     "output_type": "stream",
     "text": [
      "<class 'pydub.audio_segment.AudioSegment'>\n"
     ]
    }
   ],
   "source": [
    "# Check the type\n",
    "print(type(wavFile))"
   ]
  },
  {
   "cell_type": "code",
   "execution_count": 4,
   "id": "c18c4144",
   "metadata": {},
   "outputs": [],
   "source": [
    "#import play function\n",
    "from pydub.playback import play"
   ]
  },
  {
   "cell_type": "code",
   "execution_count": 5,
   "id": "48451cb1",
   "metadata": {
    "scrolled": true
   },
   "outputs": [
    {
     "name": "stdout",
     "output_type": "stream",
     "text": [
      "Start executing th efile in the background, Turn on the Volume\n",
      ".\n",
      ".\n",
      "File has been played\n"
     ]
    }
   ],
   "source": [
    "# Play the audio file\n",
    "print(f\"Start executing th efile in the background, Turn on the Volume\\n.\\n.\")\n",
    "play(wavFile)\n",
    "print(\"File has been played\")"
   ]
  },
  {
   "cell_type": "code",
   "execution_count": 6,
   "id": "743ac164",
   "metadata": {
    "scrolled": false
   },
   "outputs": [
    {
     "name": "stdout",
     "output_type": "stream",
     "text": [
      "Frame Rate: 48000\n",
      "No. of Channels: 2\n",
      "Maximum Amplitude: 8484\n",
      "Sample Width: 2\n",
      "Length: 3284\n"
     ]
    }
   ],
   "source": [
    "# Find the number of frames\n",
    "print(f\"Frame Rate: {wavFile.frame_rate}\")\n",
    "\n",
    "# Find the number of channels\n",
    "print(f\"No. of Channels: {wavFile.channels}\")\n",
    "\n",
    "# Find the max amplitude\n",
    "print(f\"Maximum Amplitude: {wavFile.max}\")\n",
    "\n",
    "# Find the sample width\n",
    "print(f\"Sample Width: {wavFile.sample_width}\")\n",
    "\n",
    "# Find the length\n",
    "print(f\"Length: {len(wavFile)}\")"
   ]
  },
  {
   "cell_type": "code",
   "execution_count": 7,
   "id": "cf5f0fde",
   "metadata": {
    "scrolled": false
   },
   "outputs": [
    {
     "name": "stdout",
     "output_type": "stream",
     "text": [
      "New Frame Rate: 16000\n",
      "New Channels: 1\n",
      "New Maximum Amplitude: 8484\n",
      "New Sample Width: 1\n",
      "Length will remain same: 3284\n"
     ]
    }
   ],
   "source": [
    "# Set number of frames\n",
    "wavFileAdj =  wavFile.set_frame_rate(16000)\n",
    "print(f\"New Frame Rate: {wavFileAdj.frame_rate}\")\n",
    "\n",
    "# Set number of channels\n",
    "wavFileAdj =  wavFile.set_channels(1)\n",
    "print(f\"New Channels: {wavFileAdj.channels}\")\n",
    "\n",
    "# Set max amplitude\n",
    "print(f\"New Maximum Amplitude: {wavFileAdj.max}\")\n",
    "\n",
    "# Set sample width\n",
    "wavFileAdj =  wavFile.set_sample_width(1)\n",
    "print(f\"New Sample Width: {wavFileAdj.sample_width}\")\n",
    "\n",
    "# Set length\n",
    "print(f\"Length will remain same: {len(wavFileAdj)}\")"
   ]
  },
  {
   "cell_type": "code",
   "execution_count": 8,
   "id": "76f2125b",
   "metadata": {
    "scrolled": true
   },
   "outputs": [
    {
     "name": "stdout",
     "output_type": "stream",
     "text": [
      "Playing Normal Audio File\n",
      ".\n",
      ".\n",
      "Playing Louder Audio File\n",
      ".\n",
      ".\n",
      "Playing Quieter Audio File..\n"
     ]
    }
   ],
   "source": [
    "# Import Audio File\n",
    "audio = AudioSegment.from_file(\"sample/wavFile.wav\")\n",
    "print(\"Playing Normal Audio File\\n.\\n.\")\n",
    "play(audio)\n",
    "\n",
    "# Increasing Volume by 15 dB\n",
    "louderAudio = audio + 15\n",
    "print(\"Playing Louder Audio File\\n.\\n.\")\n",
    "play(louderAudio)\n",
    "\n",
    "#Decreasing Volume by 20 dB\n",
    "quieterAudio = audio - 20\n",
    "print(\"Playing Quieter Audio File..\")\n",
    "play(quieterAudio)\n"
   ]
  },
  {
   "cell_type": "code",
   "execution_count": 9,
   "id": "c498bb9e",
   "metadata": {
    "scrolled": false
   },
   "outputs": [
    {
     "name": "stdout",
     "output_type": "stream",
     "text": [
      "Playing Normalized Audio\n"
     ]
    }
   ],
   "source": [
    "from pydub.effects import normalize\n",
    "\n",
    "# Import Audio File\n",
    "difLoud = AudioSegment.from_file(\"sample/diffLoudness.wav\")\n",
    "play(difLoud)\n",
    "\n",
    "# Normalize target audio file\n",
    "normalizedAudio = normalize(difLoud)\n",
    "print(\"Playing Normalized Audio\")\n",
    "play(normalizedAudio)"
   ]
  },
  {
   "cell_type": "code",
   "execution_count": 11,
   "id": "ef4eb5c6",
   "metadata": {
    "scrolled": true
   },
   "outputs": [
    {
     "name": "stdout",
     "output_type": "stream",
     "text": [
      "This Audio File have 30 Seconds of Nothing at the end of it\n",
      "============================================================\n",
      "Playing First 5 seconds\n",
      ".\n",
      ".\n",
      "First 5 seconds ended\n",
      "Playing 10 seconds of Nothing\n",
      ".\n",
      ".\n",
      "10 seconds of Nothing ended - No Audio\n"
     ]
    }
   ],
   "source": [
    "# Import Audio File\n",
    "chop = AudioSegment.from_file(\"sample/nothing30.wav\")\n",
    "print(\"This Audio File have 30 Seconds of Nothing at the end of it\")\n",
    "print(\"============================================================\")\n",
    "\n",
    "# Remove 30 seconds, Including only first 5 seconds\n",
    "fiveSec = 10 * 1000\n",
    "first5s = chop[:fiveSec]\n",
    "print(\"Playing First 5 seconds\\n.\\n.\")\n",
    "play(first5s)\n",
    "print(\"First 5 seconds ended\")\n",
    "\n",
    "#Playing last 10 seconds\n",
    "last30s = chop[-10000:]\n",
    "print(\"Playing 10 seconds of Nothing\\n.\\n.\")\n",
    "play(last30s)\n",
    "\n",
    "print(\"10 seconds of Nothing ended - No Audio\")"
   ]
  },
  {
   "cell_type": "code",
   "execution_count": 12,
   "id": "70e45d5a",
   "metadata": {
    "scrolled": true
   },
   "outputs": [
    {
     "name": "stdout",
     "output_type": "stream",
     "text": [
      "Playing Concatenated Audio\n"
     ]
    }
   ],
   "source": [
    "# Import 2 Audio files\n",
    "music = AudioSegment.from_file(\"sample/music.wav\")\n",
    "noise = AudioSegment.from_file(\"sample/noise.wav\")\n",
    "\n",
    "# Remove the first 30 seconds of music\n",
    "musicRemoved = music[30000:]\n",
    "\n",
    "# Add the remainder of music and noise together\n",
    "concat = noise + musicRemoved\n",
    "print(\"Playing Concatenated Audio\")\n",
    "play(concat)"
   ]
  },
  {
   "cell_type": "code",
   "execution_count": 13,
   "id": "dba21a52",
   "metadata": {
    "scrolled": false
   },
   "outputs": [
    {
     "name": "stdout",
     "output_type": "stream",
     "text": [
      "Stereo number channels: 2\n",
      "Split number channels: 1, 1\n"
     ]
    }
   ],
   "source": [
    "# Import stereo audio file and check channels\n",
    "difChannels = AudioSegment.from_file(\"sample/channels.wav\")\n",
    "print(f\"Stereo number channels: {difChannels.channels}\")\n",
    "\n",
    "# Split stereo phone call and check channels\n",
    "channels = difChannels.split_to_mono()\n",
    "print(f\"Split number channels: {channels[0].channels}, {channels[1].channels}\")\n",
    "\n",
    "# Save new channels separately\n",
    "channel_1 = channels[0]\n",
    "channel_2 = channels[1]"
   ]
  },
  {
   "cell_type": "code",
   "execution_count": 14,
   "id": "9c0277ac",
   "metadata": {
    "scrolled": false
   },
   "outputs": [
    {
     "data": {
      "text/plain": [
       "<_io.BufferedRandom name='output/concat.wav'>"
      ]
     },
     "execution_count": 14,
     "metadata": {},
     "output_type": "execute_result"
    }
   ],
   "source": [
    "# Import 2 Audio files\n",
    "music = AudioSegment.from_file(\"sample/music.wav\")\n",
    "noise = AudioSegment.from_file(\"sample/noise.wav\")\n",
    "\n",
    "# Concatenate music and noise file and increase volume by 10 dB\n",
    "concat = musicRemoved + noise + 10\n",
    "\n",
    "#Export Louder Concatenated Audio File in .wav Format\n",
    "concat.export(out_f=\"output/concat.wav\", format=\"wav\")"
   ]
  },
  {
   "cell_type": "code",
   "execution_count": null,
   "id": "18efc9cc",
   "metadata": {},
   "outputs": [],
   "source": []
  },
  {
   "cell_type": "code",
   "execution_count": null,
   "id": "a7c9cb76",
   "metadata": {},
   "outputs": [],
   "source": []
  }
 ],
 "metadata": {
  "kernelspec": {
   "display_name": "Python 3",
   "language": "python",
   "name": "python3"
  },
  "language_info": {
   "codemirror_mode": {
    "name": "ipython",
    "version": 3
   },
   "file_extension": ".py",
   "mimetype": "text/x-python",
   "name": "python",
   "nbconvert_exporter": "python",
   "pygments_lexer": "ipython3",
   "version": "3.8.8"
  }
 },
 "nbformat": 4,
 "nbformat_minor": 5
}
