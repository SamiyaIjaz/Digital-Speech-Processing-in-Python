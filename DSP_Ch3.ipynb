{
 "cells": [
  {
   "cell_type": "code",
   "execution_count": 1,
   "id": "02db8926",
   "metadata": {
    "scrolled": true
   },
   "outputs": [
    {
     "name": "stderr",
     "output_type": "stream",
     "text": [
      "D:\\Anaconda\\lib\\site-packages\\pydub\\utils.py:170: RuntimeWarning: Couldn't find ffmpeg or avconv - defaulting to ffmpeg, but may not work\n",
      "  warn(\"Couldn't find ffmpeg or avconv - defaulting to ffmpeg, but may not work\", RuntimeWarning)\n"
     ]
    }
   ],
   "source": [
    "# Import AudioSegment from Pydub\n",
    "from pydub import AudioSegment"
   ]
  },
  {
   "cell_type": "code",
   "execution_count": 2,
   "id": "a0f1948c",
   "metadata": {},
   "outputs": [],
   "source": [
    "# Create an AudioSegment instance\n",
    "wavFile = AudioSegment.from_file(file=\"sample/wavFile.wav\", format=\"wav\")"
   ]
  },
  {
   "cell_type": "code",
   "execution_count": 3,
   "id": "7651dada",
   "metadata": {
    "scrolled": false
   },
   "outputs": [
    {
     "name": "stdout",
     "output_type": "stream",
     "text": [
      "<class 'pydub.audio_segment.AudioSegment'>\n"
     ]
    }
   ],
   "source": [
    "# Check the type\n",
    "print(type(wavFile))"
   ]
  },
  {
   "cell_type": "code",
   "execution_count": 4,
   "id": "c18c4144",
   "metadata": {},
   "outputs": [],
   "source": [
    "#import play function\n",
    "from pydub.playback import play"
   ]
  },
  {
   "cell_type": "code",
   "execution_count": 5,
   "id": "48451cb1",
   "metadata": {
    "scrolled": true
   },
   "outputs": [
    {
     "name": "stdout",
     "output_type": "stream",
     "text": [
      "Start executing th efile in the background, Turn on the Volume\n",
      ".\n",
      ".\n",
      "File has been played\n"
     ]
    }
   ],
   "source": [
    "# Play the audio file\n",
    "print(f\"Start executing th efile in the background, Turn on the Volume\\n.\\n.\")\n",
    "play(wavFile)\n",
    "print(\"File has been played\")"
   ]
  },
  {
   "cell_type": "code",
   "execution_count": 6,
   "id": "743ac164",
   "metadata": {
    "scrolled": false
   },
   "outputs": [
    {
     "name": "stdout",
     "output_type": "stream",
     "text": [
      "Frame Rate: 48000\n",
      "No. of Channels: 2\n",
      "Maximum Amplitude: 8484\n",
      "Sample Width: 2\n",
      "Length: 3284\n"
     ]
    }
   ],
   "source": [
    "# Find the number of frames\n",
    "print(f\"Frame Rate: {wavFile.frame_rate}\")\n",
    "\n",
    "# Find the number of channels\n",
    "print(f\"No. of Channels: {wavFile.channels}\")\n",
    "\n",
    "# Find the max amplitude\n",
    "print(f\"Maximum Amplitude: {wavFile.max}\")\n",
    "\n",
    "# Find the sample width\n",
    "print(f\"Sample Width: {wavFile.sample_width}\")\n",
    "\n",
    "# Find the length\n",
    "print(f\"Length: {len(wavFile)}\")"
   ]
  },
  {
   "cell_type": "code",
   "execution_count": 7,
   "id": "cf5f0fde",
   "metadata": {
    "scrolled": false
   },
   "outputs": [
    {
     "name": "stdout",
     "output_type": "stream",
     "text": [
      "New Frame Rate: 16000\n",
      "New Channels: 1\n",
      "New Maximum Amplitude: 8484\n",
      "New Sample Width: 1\n",
      "Length will remain same: 3284\n"
     ]
    }
   ],
   "source": [
    "# Set number of frames\n",
    "wavFileAdj =  wavFile.set_frame_rate(16000)\n",
    "print(f\"New Frame Rate: {wavFileAdj.frame_rate}\")\n",
    "\n",
    "# Set number of channels\n",
    "wavFileAdj =  wavFile.set_channels(1)\n",
    "print(f\"New Channels: {wavFileAdj.channels}\")\n",
    "\n",
    "# Set max amplitude\n",
    "print(f\"New Maximum Amplitude: {wavFileAdj.max}\")\n",
    "\n",
    "# Set sample width\n",
    "wavFileAdj =  wavFile.set_sample_width(1)\n",
    "print(f\"New Sample Width: {wavFileAdj.sample_width}\")\n",
    "\n",
    "# Set length\n",
    "print(f\"Length will remain same: {len(wavFileAdj)}\")"
   ]
  },
  {
   "cell_type": "code",
   "execution_count": 8,
   "id": "76f2125b",
   "metadata": {
    "scrolled": true
   },
   "outputs": [
    {
     "name": "stdout",
     "output_type": "stream",
     "text": [
      "Playing Normal Audio File\n",
      ".\n",
      ".\n",
      "Playing Louder Audio File\n",
      ".\n",
      ".\n",
      "Playing Quieter Audio File..\n"
     ]
    }
   ],
   "source": [
    "# Import Audio File\n",
    "audio = AudioSegment.from_file(\"sample/wavFile.wav\")\n",
    "print(\"Playing Normal Audio File\\n.\\n.\")\n",
    "play(audio)\n",
    "\n",
    "# Increasing Volume by 15 dB\n",
    "louderAudio = audio + 15\n",
    "print(\"Playing Louder Audio File\\n.\\n.\")\n",
    "play(louderAudio)\n",
    "\n",
    "#Decreasing Volume by 20 dB\n",
    "quieterAudio = audio - 20\n",
    "print(\"Playing Quieter Audio File..\")\n",
    "play(quieterAudio)\n"
   ]
  },
  {
   "cell_type": "code",
   "execution_count": 9,
   "id": "c498bb9e",
   "metadata": {
    "scrolled": false
   },
   "outputs": [
    {
     "name": "stdout",
     "output_type": "stream",
     "text": [
      "Playing Normalized Audio\n"
     ]
    }
   ],
   "source": [
    "from pydub.effects import normalize\n",
    "\n",
    "# Import Audio File\n",
    "difLoud = AudioSegment.from_file(\"sample/diffLoudness.wav\")\n",
    "play(difLoud)\n",
    "\n",
    "# Normalize target audio file\n",
    "normalizedAudio = normalize(difLoud)\n",
    "print(\"Playing Normalized Audio\")\n",
    "play(normalizedAudio)"
   ]
  },
  {
   "cell_type": "code",
   "execution_count": 10,
   "id": "ef4eb5c6",
   "metadata": {
    "scrolled": true
   },
   "outputs": [
    {
     "name": "stdout",
     "output_type": "stream",
     "text": [
      "This Audio File have 30 Seconds of Nothing at the end of it\n",
      "============================================================\n",
      "Playing First 5 seconds\n",
      ".\n",
      ".\n",
      "First 5 seconds ended\n",
      "Playing 10 seconds of Nothing\n",
      ".\n",
      ".\n",
      "10 seconds of Nothing ended - No Audio\n"
     ]
    }
   ],
   "source": [
    "# Import Audio File\n",
    "chop = AudioSegment.from_file(\"sample/nothing30.wav\")\n",
    "print(\"This Audio File have 30 Seconds of Nothing at the end of it\")\n",
    "print(\"============================================================\")\n",
    "\n",
    "# Remove 30 seconds, Including only first 5 seconds\n",
    "fiveSec = 10 * 1000\n",
    "first5s = chop[:fiveSec]\n",
    "print(\"Playing First 5 seconds\\n.\\n.\")\n",
    "play(first5s)\n",
    "print(\"First 5 seconds ended\")\n",
    "\n",
    "#Playing last 10 seconds\n",
    "last30s = chop[-10000:]\n",
    "print(\"Playing 10 seconds of Nothing\\n.\\n.\")\n",
    "play(last30s)\n",
    "\n",
    "print(\"10 seconds of Nothing ended - No Audio\")"
   ]
  },
  {
   "cell_type": "code",
   "execution_count": 11,
   "id": "70e45d5a",
   "metadata": {
    "scrolled": true
   },
   "outputs": [
    {
     "name": "stdout",
     "output_type": "stream",
     "text": [
      "Playing Concatenated Audio\n"
     ]
    }
   ],
   "source": [
    "# Import 2 Audio files\n",
    "music = AudioSegment.from_file(\"sample/music.wav\")\n",
    "noise = AudioSegment.from_file(\"sample/noise.wav\")\n",
    "\n",
    "# Remove the first 30 seconds of music\n",
    "musicRemoved = music[30000:]\n",
    "\n",
    "# Add the remainder of music and noise together\n",
    "concat = noise + musicRemoved\n",
    "print(\"Playing Concatenated Audio\")\n",
    "play(concat)"
   ]
  },
  {
   "cell_type": "code",
   "execution_count": 12,
   "id": "dba21a52",
   "metadata": {
    "scrolled": false
   },
   "outputs": [
    {
     "name": "stdout",
     "output_type": "stream",
     "text": [
      "Stereo number channels: 2\n",
      "Split number channels: 1, 1\n"
     ]
    }
   ],
   "source": [
    "# Import stereo audio file and check channels\n",
    "difChannels = AudioSegment.from_file(\"sample/channels.wav\")\n",
    "print(f\"Stereo number channels: {difChannels.channels}\")\n",
    "\n",
    "# Split stereo phone call and check channels\n",
    "channels = difChannels.split_to_mono()\n",
    "print(f\"Split number channels: {channels[0].channels}, {channels[1].channels}\")\n",
    "\n",
    "# Save new channels separately\n",
    "channel_1 = channels[0]\n",
    "channel_2 = channels[1]"
   ]
  },
  {
   "cell_type": "code",
   "execution_count": 13,
   "id": "9c0277ac",
   "metadata": {
    "scrolled": false
   },
   "outputs": [
    {
     "data": {
      "text/plain": [
       "<_io.BufferedRandom name='output/concat.wav'>"
      ]
     },
     "execution_count": 13,
     "metadata": {},
     "output_type": "execute_result"
    }
   ],
   "source": [
    "# Import 2 Audio files\n",
    "music = AudioSegment.from_file(\"sample/music.wav\")\n",
    "noise = AudioSegment.from_file(\"sample/noise.wav\")\n",
    "\n",
    "# Concatenate music and noise file and increase volume by 10 dB\n",
    "concat = musicRemoved + noise + 10\n",
    "\n",
    "#Export Louder Concatenated Audio File in .wav Format\n",
    "concat.export(out_f=\"output/concat.wav\", format=\"wav\")"
   ]
  },
  {
   "cell_type": "code",
   "execution_count": null,
   "id": "18efc9cc",
   "metadata": {},
   "outputs": [],
   "source": []
  },
  {
   "cell_type": "code",
   "execution_count": null,
   "id": "03ac6d14",
   "metadata": {},
   "outputs": [],
   "source": []
  },
  {
   "cell_type": "code",
   "execution_count": null,
   "id": "26c42953",
   "metadata": {},
   "outputs": [],
   "source": []
  },
  {
   "cell_type": "code",
   "execution_count": null,
   "id": "578fc423",
   "metadata": {},
   "outputs": [],
   "source": []
  },
  {
   "cell_type": "markdown",
   "id": "bcba50e4",
   "metadata": {},
   "source": [
    "# Exporting Files in Different Formats using FFmpeg"
   ]
  },
  {
   "cell_type": "markdown",
   "id": "42713797",
   "metadata": {},
   "source": [
    "==============================\n",
    "\n",
    "issues while installing ffmpeg\n",
    "\n",
    "==============================\n",
    "- path configuration for D:\\Anaconda\\lib\\site-packages\\pydub\n",
    "- [WinError 2] The system cannot find the file specified\n",
    "- setuptools' is a dependency of conda and cannot be removed from conda's operating environment.\n",
    "and many other issue even after configuring path on environmental variables\n",
    "basically we need to install ffmpeg in anaconda prompt\n",
    "\n",
    "Solution\n",
    "- conda update --force conda\n",
    "- conda update setuptools\n",
    "- conda install -c menpo ffmpeg\n",
    "- check by ffmpeg -version\n"
   ]
  },
  {
   "cell_type": "code",
   "execution_count": 1,
   "id": "942d14d2",
   "metadata": {},
   "outputs": [],
   "source": [
    "from pydub import AudioSegment\n",
    "import speech_recognition as sr\n",
    "recognizer = sr.Recognizer()"
   ]
  },
  {
   "cell_type": "markdown",
   "id": "0838f4a3",
   "metadata": {},
   "source": [
    "### ==========\n",
    "### Original File\n",
    "### =========="
   ]
  },
  {
   "cell_type": "code",
   "execution_count": 2,
   "id": "fadb9d79",
   "metadata": {
    "scrolled": true
   },
   "outputs": [
    {
     "name": "stdout",
     "output_type": "stream",
     "text": [
      "{'alternative': [{'transcript': 'آپ نے آنا تھا یا نہیں آپ لوگ', 'confidence': 0.79948223}, {'transcript': 'آپ نے آنا تھا یا آپ لوگ'}, {'transcript': 'آپ نے آنا تھا یعنی آپ لوگ'}, {'transcript': 'آپ نے آنا تھا یا نہیں آپ لوگوں کو'}, {'transcript': 'آپ نے آنا تھا یا لوگ'}], 'final': True}\n",
      "\n",
      "ORIGINAL FILE VALUES\n",
      "Frame Rate: 44100\n",
      "No. of Channels: 2\n",
      "Maximum Amplitude: 32768\n",
      "Sample Width: 2\n",
      "Length: 2698\n"
     ]
    },
    {
     "data": {
      "text/plain": [
       "<_io.BufferedRandom name='output/wav.wav'>"
      ]
     },
     "execution_count": 2,
     "metadata": {},
     "output_type": "execute_result"
    }
   ],
   "source": [
    "a = sr.AudioFile(\"sample/sample.wav\")\n",
    "with a as source:\n",
    "    audio = recognizer.record(source)\n",
    "print(recognizer.recognize_google(audio_data=audio, language=\"ur-PK\", show_all=True))\n",
    "\n",
    "print(\"\\nORIGINAL FILE VALUES\")\n",
    "wav = AudioSegment.from_file(file=\"sample/sample.wav\", format=\"wav\")\n",
    "print(f\"Frame Rate: {wav.frame_rate}\")\n",
    "print(f\"No. of Channels: {wav.channels}\")\n",
    "print(f\"Maximum Amplitude: {wav.max}\")\n",
    "print(f\"Sample Width: {wav.sample_width}\")\n",
    "print(f\"Length: {len(wav)}\")\n",
    "\n",
    "wav.export(out_f=\"output/wav.mp3\", format=\"mp3\")\n",
    "wav.export(out_f=\"output/wav.ogg\", format=\"ogg\")\n",
    "wav.export(out_f=\"output/wav.flac\", format=\"flac\")\n",
    "wav.export(out_f=\"output/wav.mp4\", format=\"mp4\")\n",
    "wav.export(out_f=\"output/wav.wav\", format=\"wav\")\n",
    "#wav.export(out_f=\"output/dff.aac\", format=\"aac\")\n",
    "#wav.export(out_f=\"output/dff.wma\", format=\"wma\")\n"
   ]
  },
  {
   "cell_type": "markdown",
   "id": "ce7964fd",
   "metadata": {},
   "source": [
    "### Exported Wav File"
   ]
  },
  {
   "cell_type": "code",
   "execution_count": 3,
   "id": "556ea6e4",
   "metadata": {},
   "outputs": [
    {
     "name": "stdout",
     "output_type": "stream",
     "text": [
      "Exported Wav Format Values\n",
      "Frame Rate: 44100\n",
      "No. of Channels: 2\n",
      "Maximum Amplitude: 32768\n",
      "Sample Width: 2\n",
      "Length: 2698\n",
      "\n",
      "Exported File Transcription\n",
      "{'alternative': [{'transcript': 'آپ نے آنا تھا یا نہیں آپ لوگ', 'confidence': 0.79948211}, {'transcript': 'آپ نے آنا تھا یا آپ لوگ'}, {'transcript': 'آپ نے آنا تھا یعنی آپ لوگ'}, {'transcript': 'آپ نے آنا تھا یا نہیں آپ لوگوں کو'}, {'transcript': 'آپ نے آنا تھا یا لوگ'}], 'final': True}\n"
     ]
    }
   ],
   "source": [
    "print(\"Exported Wav Format Values\")\n",
    "wav = AudioSegment.from_file(file=\"output/wav.wav\", format=\"wav\")\n",
    "print(f\"Frame Rate: {wav.frame_rate}\")\n",
    "print(f\"No. of Channels: {wav.channels}\")\n",
    "print(f\"Maximum Amplitude: {wav.max}\")\n",
    "print(f\"Sample Width: {wav.sample_width}\")\n",
    "print(f\"Length: {len(wav)}\")\n",
    "\n",
    "print(\"\\nExported File Transcription\")\n",
    "b = sr.AudioFile(\"output/wav.wav\")\n",
    "with b as source:\n",
    "    audio = recognizer.record(source)\n",
    "print(recognizer.recognize_google(audio_data=audio, language=\"ur-PK\", show_all=True))\n"
   ]
  },
  {
   "cell_type": "markdown",
   "id": "3b0badc9",
   "metadata": {},
   "source": [
    "### Exported Flac File"
   ]
  },
  {
   "cell_type": "code",
   "execution_count": 4,
   "id": "3618f876",
   "metadata": {},
   "outputs": [
    {
     "name": "stdout",
     "output_type": "stream",
     "text": [
      "Exported Flac Format Values\n",
      "Frame Rate: 44100\n",
      "No. of Channels: 2\n",
      "Maximum Amplitude: 32768\n",
      "Sample Width: 2\n",
      "Length: 2698\n",
      "\n",
      "Convert Flac to Wav for Trancription\n",
      "\n",
      "Exported File Transcription\n",
      "{'alternative': [{'transcript': 'آپ نے آنا تھا یا نہیں آپ لوگ', 'confidence': 0.79948223}, {'transcript': 'آپ نے آنا تھا یا آپ لوگ'}, {'transcript': 'آپ نے آنا تھا یعنی آپ لوگ'}, {'transcript': 'آپ نے آنا تھا یا نہیں آپ لوگوں کو'}, {'transcript': 'آپ نے آنا تھا یا لوگ'}], 'final': True}\n",
      "\n",
      "Exported FlacToWav Format Values\n",
      "Frame Rate: 44100\n",
      "No. of Channels: 2\n",
      "Maximum Amplitude: 32768\n",
      "Sample Width: 2\n",
      "Length: 2698\n"
     ]
    }
   ],
   "source": [
    "print(\"Exported Flac Format Values\")\n",
    "wav = AudioSegment.from_file(file=\"output/wav.flac\", format=\"flac\")\n",
    "print(f\"Frame Rate: {wav.frame_rate}\")\n",
    "print(f\"No. of Channels: {wav.channels}\")\n",
    "print(f\"Maximum Amplitude: {wav.max}\")\n",
    "print(f\"Sample Width: {wav.sample_width}\")\n",
    "print(f\"Length: {len(wav)}\")\n",
    "\n",
    "print(\"\\nConvert Flac to Wav for Trancription\")\n",
    "wav.export(out_f=\"exportedWav/flacToWav.wav\", format=\"wav\")\n",
    "\n",
    "print(\"\\nExported File Transcription\")\n",
    "wav1 = sr.AudioFile(\"exportedWav/flacToWav.wav\")\n",
    "with wav1 as source:\n",
    "    audio = recognizer.record(source)\n",
    "print(recognizer.recognize_google(audio_data=audio, language=\"ur-PK\", show_all=True))\n",
    "\n",
    "print(\"\\nExported FlacToWav Format Values\")\n",
    "wav1 = AudioSegment.from_file(file=\"exportedWav/flacToWav.wav\", format=\"wav\")\n",
    "print(f\"Frame Rate: {wav1.frame_rate}\")\n",
    "print(f\"No. of Channels: {wav1.channels}\")\n",
    "print(f\"Maximum Amplitude: {wav1.max}\")\n",
    "print(f\"Sample Width: {wav1.sample_width}\")\n",
    "print(f\"Length: {len(wav1)}\")"
   ]
  },
  {
   "cell_type": "markdown",
   "id": "f689107a",
   "metadata": {},
   "source": [
    "### Exported ogg File"
   ]
  },
  {
   "cell_type": "code",
   "execution_count": 5,
   "id": "35ee6778",
   "metadata": {},
   "outputs": [
    {
     "name": "stdout",
     "output_type": "stream",
     "text": [
      "Exported ogg Format Values\n",
      "Frame Rate: 44100\n",
      "No. of Channels: 2\n",
      "Maximum Amplitude: 2147483648\n",
      "Sample Width: 4\n",
      "Length: 2715\n",
      "\n",
      "Convert ogg to wav for Trancription\n",
      "\n",
      "Exported File Transcription\n",
      "{'alternative': [{'transcript': 'آپ نے آنا تھا یا نہیں آپ لوگ', 'confidence': 0.78052068}, {'transcript': 'آپ نے آنا تھا یا آپ لوگ'}, {'transcript': 'آپ نے آنا تھا یعنی آپ لوگ'}, {'transcript': 'آپ نے آنا تھا یا لوگ'}, {'transcript': 'آپ نے آنا تھا یار آپ لوگ'}], 'final': True}\n",
      "\n",
      "Exported oggToWav Format Values\n",
      "Frame Rate: 44100\n",
      "No. of Channels: 2\n",
      "Maximum Amplitude: 2147483648\n",
      "Sample Width: 4\n",
      "Length: 2715\n"
     ]
    }
   ],
   "source": [
    "print(\"Exported ogg Format Values\")\n",
    "wav = AudioSegment.from_file(file=\"output/wav.ogg\", format=\"ogg\")\n",
    "print(f\"Frame Rate: {wav.frame_rate}\")\n",
    "print(f\"No. of Channels: {wav.channels}\")\n",
    "print(f\"Maximum Amplitude: {wav.max}\")\n",
    "print(f\"Sample Width: {wav.sample_width}\")\n",
    "print(f\"Length: {len(wav)}\")\n",
    "\n",
    "print(\"\\nConvert ogg to wav for Trancription\")\n",
    "wav.export(out_f=\"exportedWav/oggToWav.wav\", format=\"wav\")\n",
    "\n",
    "print(\"\\nExported File Transcription\")\n",
    "wav1 = sr.AudioFile(\"exportedWav/oggToWav.wav\")\n",
    "with wav1 as source:\n",
    "    audio = recognizer.record(source)\n",
    "print(recognizer.recognize_google(audio_data=audio, language=\"ur-PK\", show_all=True))\n",
    "\n",
    "print(\"\\nExported oggToWav Format Values\")\n",
    "wav1 = AudioSegment.from_file(file=\"exportedWav/oggToWav.wav\", format=\"wav\")\n",
    "print(f\"Frame Rate: {wav1.frame_rate}\")\n",
    "print(f\"No. of Channels: {wav1.channels}\")\n",
    "print(f\"Maximum Amplitude: {wav1.max}\")\n",
    "print(f\"Sample Width: {wav1.sample_width}\")\n",
    "print(f\"Length: {len(wav1)}\")"
   ]
  },
  {
   "cell_type": "markdown",
   "id": "7c8cd400",
   "metadata": {},
   "source": [
    "### Exported mp3 File"
   ]
  },
  {
   "cell_type": "code",
   "execution_count": 6,
   "id": "bda27724",
   "metadata": {},
   "outputs": [
    {
     "name": "stdout",
     "output_type": "stream",
     "text": [
      "Exported mp3 Format Values\n",
      "Frame Rate: 44100\n",
      "No. of Channels: 2\n",
      "Maximum Amplitude: 31235\n",
      "Sample Width: 2\n",
      "Length: 2743\n",
      "\n",
      "Convert mp3 to wav for Trancription\n",
      "\n",
      "Exported File Transcription\n",
      "{'alternative': [{'transcript': 'آپ نے آنا تھا یا نہیں آپ لوگ', 'confidence': 0.7811451}, {'transcript': 'آپ نے آنا تھا یا آپ لوگ'}, {'transcript': 'آپ نے آنا تھا یعنی آپ لوگ'}, {'transcript': 'آپ نے آنا تھا یا لوگ'}, {'transcript': 'آپ نے آنا تھا یار آپ لوگ'}], 'final': True}\n",
      "\n",
      "Exported mp3ToWav Format Values\n",
      "Frame Rate: 44100\n",
      "No. of Channels: 2\n",
      "Maximum Amplitude: 31235\n",
      "Sample Width: 2\n",
      "Length: 2743\n"
     ]
    }
   ],
   "source": [
    "print(\"Exported mp3 Format Values\")\n",
    "wav = AudioSegment.from_file(file=\"output/wav.mp3\", format=\"mp3\")\n",
    "print(f\"Frame Rate: {wav.frame_rate}\")\n",
    "print(f\"No. of Channels: {wav.channels}\")\n",
    "print(f\"Maximum Amplitude: {wav.max}\")\n",
    "print(f\"Sample Width: {wav.sample_width}\")\n",
    "print(f\"Length: {len(wav)}\")\n",
    "\n",
    "print(\"\\nConvert mp3 to wav for Trancription\")\n",
    "wav.export(out_f=\"exportedWav/mp3ToWav.wav\", format=\"wav\")\n",
    "\n",
    "print(\"\\nExported File Transcription\")\n",
    "wav1 = sr.AudioFile(\"exportedWav/mp3ToWav.wav\")\n",
    "with wav1 as source:\n",
    "    audio = recognizer.record(source)\n",
    "print(recognizer.recognize_google(audio_data=audio, language=\"ur-PK\", show_all=True))\n",
    "\n",
    "print(\"\\nExported mp3ToWav Format Values\")\n",
    "wav1 = AudioSegment.from_file(file=\"exportedWav/mp3ToWav.wav\", format=\"wav\")\n",
    "print(f\"Frame Rate: {wav1.frame_rate}\")\n",
    "print(f\"No. of Channels: {wav1.channels}\")\n",
    "print(f\"Maximum Amplitude: {wav1.max}\")\n",
    "print(f\"Sample Width: {wav1.sample_width}\")\n",
    "print(f\"Length: {len(wav1)}\")"
   ]
  },
  {
   "cell_type": "markdown",
   "id": "a4631f83",
   "metadata": {},
   "source": [
    "### Exported mp4 Files"
   ]
  },
  {
   "cell_type": "code",
   "execution_count": 7,
   "id": "115df090",
   "metadata": {},
   "outputs": [
    {
     "name": "stdout",
     "output_type": "stream",
     "text": [
      "Exported mp4 Format Values\n",
      "Frame Rate: 44100\n",
      "No. of Channels: 2\n",
      "Maximum Amplitude: 32768\n",
      "Sample Width: 2\n",
      "Length: 2740\n",
      "\n",
      "Convert mp4 to wav for Trancription\n",
      "\n",
      "Exported File Transcription\n",
      "{'alternative': [{'transcript': 'آپ نے آنا تھا یا آپ کو', 'confidence': 0.69432086}, {'transcript': 'آپ نے آنا تھا یا نہیں آپ کو'}, {'transcript': 'آپ نے آنا تھا یا کرو'}, {'transcript': 'آپ نے آنا تھا یعنی آپ کو'}, {'transcript': 'آپ نے آنا تھا یارو'}], 'final': True}\n",
      "\n",
      "Exported mp4ToWav Format Values\n",
      "Frame Rate: 44100\n",
      "No. of Channels: 2\n",
      "Maximum Amplitude: 32768\n",
      "Sample Width: 2\n",
      "Length: 2740\n"
     ]
    }
   ],
   "source": [
    "print(\"Exported mp4 Format Values\")\n",
    "wav = AudioSegment.from_file(file=\"output/wav.mp4\", format=\"mp4\")\n",
    "print(f\"Frame Rate: {wav.frame_rate}\")\n",
    "print(f\"No. of Channels: {wav.channels}\")\n",
    "print(f\"Maximum Amplitude: {wav.max}\")\n",
    "print(f\"Sample Width: {wav.sample_width}\")\n",
    "print(f\"Length: {len(wav)}\")\n",
    "\n",
    "print(\"\\nConvert mp4 to wav for Trancription\")\n",
    "wav.export(out_f=\"exportedWav/mp4ToWav.wav\", format=\"wav\")\n",
    "\n",
    "print(\"\\nExported File Transcription\")\n",
    "wav1 = sr.AudioFile(\"exportedWav/mp4ToWav.wav\")\n",
    "with wav1 as source:\n",
    "    audio = recognizer.record(source)\n",
    "print(recognizer.recognize_google(audio_data=audio, language=\"ur-PK\", show_all=True))\n",
    "\n",
    "print(\"\\nExported mp4ToWav Format Values\")\n",
    "wav1 = AudioSegment.from_file(file=\"exportedWav/mp4ToWav.wav\", format=\"wav\")\n",
    "print(f\"Frame Rate: {wav1.frame_rate}\")\n",
    "print(f\"No. of Channels: {wav1.channels}\")\n",
    "print(f\"Maximum Amplitude: {wav1.max}\")\n",
    "print(f\"Sample Width: {wav1.sample_width}\")\n",
    "print(f\"Length: {len(wav1)}\")"
   ]
  },
  {
   "cell_type": "code",
   "execution_count": null,
   "id": "65cfa7ea",
   "metadata": {},
   "outputs": [],
   "source": []
  },
  {
   "cell_type": "code",
   "execution_count": null,
   "id": "3443caa6",
   "metadata": {},
   "outputs": [],
   "source": []
  },
  {
   "cell_type": "code",
   "execution_count": null,
   "id": "7ac15c33",
   "metadata": {},
   "outputs": [],
   "source": []
  }
 ],
 "metadata": {
  "kernelspec": {
   "display_name": "Python 3 (ipykernel)",
   "language": "python",
   "name": "python3"
  },
  "language_info": {
   "codemirror_mode": {
    "name": "ipython",
    "version": 3
   },
   "file_extension": ".py",
   "mimetype": "text/x-python",
   "name": "python",
   "nbconvert_exporter": "python",
   "pygments_lexer": "ipython3",
   "version": "3.8.8"
  }
 },
 "nbformat": 4,
 "nbformat_minor": 5
}
