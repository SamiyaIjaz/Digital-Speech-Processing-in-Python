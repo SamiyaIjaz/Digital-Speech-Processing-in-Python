{
 "cells": [
  {
   "cell_type": "code",
   "execution_count": 1,
   "id": "46c66621",
   "metadata": {
    "scrolled": true
   },
   "outputs": [
    {
     "data": {
      "text/plain": [
       "['customer1.ogg',\n",
       " 'customer2.ogg',\n",
       " 'file1.mp3',\n",
       " 'file2.flac',\n",
       " 'file3.flac',\n",
       " 'file4.flac',\n",
       " 'file5.ogg',\n",
       " 'file6.ogg',\n",
       " 'file7.ogg',\n",
       " 'file8.mp4',\n",
       " 'file9.ogg']"
      ]
     },
     "execution_count": 1,
     "metadata": {},
     "output_type": "execute_result"
    }
   ],
   "source": [
    "#Import OS Module\n",
    "import os\n",
    "\n",
    "#Check Audio Files Folder\n",
    "os.listdir(\"ipFiles\")"
   ]
  },
  {
   "cell_type": "code",
   "execution_count": 2,
   "id": "7ae57f5d",
   "metadata": {
    "scrolled": false
   },
   "outputs": [
    {
     "data": {
      "text/plain": [
       "'mujhe kuch khane ko de do'"
      ]
     },
     "execution_count": 2,
     "metadata": {},
     "output_type": "execute_result"
    }
   ],
   "source": [
    "import speech_recognition as sr\n",
    "from pydub import AudioSegment\n",
    "\n",
    "#Import First File and Convert to .wav\n",
    "file1 = AudioSegment.from_file(\"ipFiles/file1.mp3\")\n",
    "file1.export(\"exportedWav.file1.wav\", format=\"wav\")\n",
    "\n",
    "#Transcribe file1\n",
    "recognizer = sr.Recognizer()\n",
    "file1_file = sr.AudioFile(\"exportedWav/file1.wav\")\n",
    "with file1_file as src:\n",
    "    file1_audio = recognizer.record(file1_file)\n",
    "recognizer.recognize_google(file1_audio)"
   ]
  },
  {
   "cell_type": "code",
   "execution_count": 3,
   "id": "09839212",
   "metadata": {
    "scrolled": true
   },
   "outputs": [
    {
     "name": "stdout",
     "output_type": "stream",
     "text": [
      "Converting file1.mp3 to exportedWav/file1.wav... (completed)\n"
     ]
    }
   ],
   "source": [
    "#File Format Conversion Function\n",
    "#===============================\n",
    "\n",
    "def convertToWav(filename):\n",
    "    #Import Audio File\n",
    "    file = AudioSegment.from_file(filename)\n",
    "    #Create New Filename\n",
    "    filename = filename.split(\"/\")[1] #to remove parent directory\n",
    "    newFilename = \"exportedWav/\" + filename.split(\".\")[0] + \".wav\"\n",
    "    #Export file as .wav\n",
    "    file.export(newFilename, format=\"wav\")\n",
    "    print(f\"Converting {filename} to {newFilename}... (completed)\")\n",
    "    \n",
    "convertToWav(\"ipFiles/file1.mp3\")"
   ]
  },
  {
   "cell_type": "code",
   "execution_count": 4,
   "id": "3106ab67",
   "metadata": {
    "scrolled": false
   },
   "outputs": [
    {
     "name": "stdout",
     "output_type": "stream",
     "text": [
      "exportedWav/file1.wav Channels: 2\n",
      "exportedWav/file1.wav Sample Width: 2\n",
      "exportedWav/file1.wav Frame Rate: 44100\n",
      "exportedWav/file1.wav Frame Count: 137088.0\n",
      "exportedWav/file1.wav Frame Width: 4\n",
      "exportedWav/file1.wav Length in ms: 3109\n"
     ]
    }
   ],
   "source": [
    "#Attribute Showing Function\n",
    "#==========================\n",
    "\n",
    "def showPydubStats(filename):\n",
    "    #Create AudioSegment Instance\n",
    "    file = AudioSegment.from_file(filename)\n",
    "    #Print Audio Attributes\n",
    "    print(f\"{filename} Channels: {file.channels}\")\n",
    "    print(f\"{filename} Sample Width: {file.sample_width}\")\n",
    "    print(f\"{filename} Frame Rate: {file.frame_rate}\")\n",
    "    print(f\"{filename} Frame Count: {file.frame_count()}\")\n",
    "    print(f\"{filename} Frame Width: {file.frame_width}\")\n",
    "    print(f\"{filename} Length in ms: {len(file)}\")\n",
    "\n",
    "showPydubStats(\"exportedWav/file1.wav\")"
   ]
  },
  {
   "cell_type": "code",
   "execution_count": 5,
   "id": "909b2f67",
   "metadata": {
    "scrolled": false
   },
   "outputs": [
    {
     "data": {
      "text/plain": [
       "'mujhe kuch khane ko de do'"
      ]
     },
     "execution_count": 5,
     "metadata": {},
     "output_type": "execute_result"
    }
   ],
   "source": [
    "#Transcribe Function\n",
    "#===================\n",
    "\n",
    "def transcribeAudio(filename):\n",
    "    #Setup a Recognizer Function\n",
    "    recognizer = sr.Recognizer()\n",
    "    #Import Audio Fiel and Convert it into Audio Data\n",
    "    file = sr.AudioFile(filename)\n",
    "    with file as src:\n",
    "        fileData = recognizer.record(src)\n",
    "    #Return Transcribed Text\n",
    "    return recognizer.recognize_google(fileData)\n",
    "\n",
    "transcribeAudio(\"exportedWav/file1.wav\")"
   ]
  },
  {
   "cell_type": "markdown",
   "id": "40fb0fb5",
   "metadata": {},
   "source": [
    "#  \n",
    "#   \n",
    "# Sentiment Analysis on Spoken Language Text"
   ]
  },
  {
   "cell_type": "code",
   "execution_count": null,
   "id": "7feb5da7",
   "metadata": {
    "scrolled": true
   },
   "outputs": [],
   "source": [
    "#Download Required NLTK Packages\n",
    "import nltk\n",
    "nltk.download(\"punkt\")\n",
    "nltk.download(\"vader_lexicon\")"
   ]
  },
  {
   "cell_type": "markdown",
   "id": "f601bd5e",
   "metadata": {},
   "source": [
    "### Sentiment Analysis with VADER"
   ]
  },
  {
   "cell_type": "code",
   "execution_count": 6,
   "id": "55bb1051",
   "metadata": {
    "scrolled": true
   },
   "outputs": [
    {
     "name": "stdout",
     "output_type": "stream",
     "text": [
      "{'neg': 0.0, 'neu': 0.349, 'pos': 0.651, 'compound': 0.6808}\n"
     ]
    }
   ],
   "source": [
    "#Import Sentiment Analysis Class\n",
    "from nltk.sentiment.vader import SentimentIntensityAnalyzer\n",
    "\n",
    "#Create Sentiment Analysis Instance\n",
    "ins = SentimentIntensityAnalyzer()\n",
    "\n",
    "#Test Sentiment Analysis on Text\n",
    "print(ins.polarity_scores(\"I am having Great Accomplishing Feeling.\"))"
   ]
  },
  {
   "cell_type": "code",
   "execution_count": 7,
   "id": "0f02c48e",
   "metadata": {},
   "outputs": [
    {
     "name": "stdout",
     "output_type": "stream",
     "text": [
      "Converting customer1.ogg to exportedWav/customer1.wav... (completed)\n",
      "hi yeah this is paid on this call and obviously the status of my order at 3 weeks ago and that order is terrible is it any better\n"
     ]
    },
    {
     "data": {
      "text/plain": [
       "{'neg': 0.096, 'neu': 0.745, 'pos': 0.158, 'compound': 0.25}"
      ]
     },
     "execution_count": 7,
     "metadata": {},
     "output_type": "execute_result"
    }
   ],
   "source": [
    "#Transcribe Customer Call\n",
    "convertToWav(\"ipFiles/customer1.ogg\")\n",
    "call = transcribeAudio(\"exportedWav/customer1.wav\")\n",
    "print(call)\n",
    "\n",
    "#Sentiment Analysis on Customer Call\n",
    "ins.polarity_scores(call)"
   ]
  },
  {
   "cell_type": "code",
   "execution_count": 8,
   "id": "43ede94b",
   "metadata": {
    "scrolled": false
   },
   "outputs": [
    {
     "name": "stdout",
     "output_type": "stream",
     "text": [
      "Converting customer2.ogg to exportedWav/customer2.wav... (completed)\n",
      "\n",
      "Transcribed Text is:\n",
      "I think I should try some other consumer services or different product and the service was my last experience was really bad like it was terrible\n"
     ]
    },
    {
     "data": {
      "text/plain": [
       "{'neg': 0.225, 'neu': 0.685, 'pos': 0.091, 'compound': -0.6267}"
      ]
     },
     "execution_count": 8,
     "metadata": {},
     "output_type": "execute_result"
    }
   ],
   "source": [
    "#Transcribe Customer Call\n",
    "convertToWav(\"ipFiles/customer2.ogg\")\n",
    "call = transcribeAudio(\"exportedWav/customer2.wav\")\n",
    "print(f\"\\nTranscribed Text is:\\n{call}\")\n",
    "\n",
    "#Sentiment Analysis on Customer Call\n",
    "ins.polarity_scores(call)"
   ]
  },
  {
   "cell_type": "code",
   "execution_count": 9,
   "id": "6f75cc5d",
   "metadata": {},
   "outputs": [
    {
     "name": "stdout",
     "output_type": "stream",
     "text": [
      "Hello.\n",
      "{'neg': 0.0, 'neu': 1.0, 'pos': 0.0, 'compound': 0.0}\n",
      "Hi, there.\n",
      "{'neg': 0.0, 'neu': 1.0, 'pos': 0.0, 'compound': 0.0}\n",
      "Hi, This is XYZ Customer Service.\n",
      "{'neg': 0.0, 'neu': 1.0, 'pos': 0.0, 'compound': 0.0}\n",
      "How can I help you?\n",
      "{'neg': 0.0, 'neu': 0.526, 'pos': 0.474, 'compound': 0.4019}\n",
      "Hi, I ordered some products under ID Saucy.\n",
      "{'neg': 0.0, 'neu': 1.0, 'pos': 0.0, 'compound': 0.0}\n",
      "I've been waiting for it but\n",
      "I have not gotten any update.\n",
      "{'neg': 0.0, 'neu': 1.0, 'pos': 0.0, 'compound': 0.0}\n",
      "It is not good to wait.\n",
      "{'neg': 0.325, 'neu': 0.675, 'pos': 0.0, 'compound': -0.3412}\n",
      "Kindly check the order status and give a proper response \n",
      "when can I get my products.\n",
      "{'neg': 0.0, 'neu': 0.802, 'pos': 0.198, 'compound': 0.4939}\n",
      "It sucks to wait.\n",
      "{'neg': 0.455, 'neu': 0.545, 'pos': 0.0, 'compound': -0.3612}\n"
     ]
    }
   ],
   "source": [
    "#Sentiment Analysis Sentence by Sentence\n",
    "tarnscribedText = \"\"\"Hello. Hi, there. \n",
    "Hi, This is XYZ Customer Service. How can I help you? \n",
    "Hi, I ordered some products under ID Saucy. I've been waiting for it but\n",
    "I have not gotten any update. It is not good to wait. \n",
    "Kindly check the order status and give a proper response \n",
    "when can I get my products. It sucks to wait.\"\"\"\n",
    "\n",
    "#Import Tokenize Function\n",
    "from nltk.tokenize import sent_tokenize\n",
    "\n",
    "#Find Sentiment on Each Sentence\n",
    "for sentence in sent_tokenize(tarnscribedText):\n",
    "    print(sentence)\n",
    "    print(ins.polarity_scores(sentence))"
   ]
  },
  {
   "cell_type": "markdown",
   "id": "7feb4ad9",
   "metadata": {},
   "source": [
    "# \n",
    "#   \n",
    "# Named Entity Recognition on Transcribed Text"
   ]
  },
  {
   "cell_type": "code",
   "execution_count": null,
   "id": "a9e7e1e9",
   "metadata": {},
   "outputs": [],
   "source": []
  }
 ],
 "metadata": {
  "kernelspec": {
   "display_name": "Python 3 (ipykernel)",
   "language": "python",
   "name": "python3"
  },
  "language_info": {
   "codemirror_mode": {
    "name": "ipython",
    "version": 3
   },
   "file_extension": ".py",
   "mimetype": "text/x-python",
   "name": "python",
   "nbconvert_exporter": "python",
   "pygments_lexer": "ipython3",
   "version": "3.8.8"
  }
 },
 "nbformat": 4,
 "nbformat_minor": 5
}
